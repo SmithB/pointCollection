{
 "cells": [
  {
   "cell_type": "markdown",
   "metadata": {},
   "source": [
    "The geoIndex class that we explored in the last tutorial is handy for pulling data from large collections of files, but the actual process of reading the data can be very inefficient if there are large numbers of files that contribute data to the same area (as happens near the poles where satellite orbits converge).  To make the reading of the data more efficient, we can rewrite the data into __tiles__ that are spatially organized (in contrast to raw granules, which are usually organized in time.)  The pointCollection has a generic _tile_ class that can do this."
   ]
  },
  {
   "cell_type": "code",
   "execution_count": 1,
   "metadata": {},
   "outputs": [],
   "source": [
    "%load_ext autoreload\n",
    "%autoreload 2;"
   ]
  },
  {
   "cell_type": "code",
   "execution_count": 70,
   "metadata": {},
   "outputs": [
    {
     "name": "stdout",
     "output_type": "stream",
     "text": [
      "Help on class tile in module pointCollection.tile:\n",
      "\n",
      "class tile(builtins.object)\n",
      " |  tile(xy0=None, bin_W=[10000.0, 10000.0], tile_W=100000.0, SRS_proj4=None, time_field=None, z_field=None)\n",
      " |  \n",
      " |  A tile is a datafile containing a collection of points from a list of other\n",
      " |  files.  It is written as a pointCollectin.indexedH5 file, and contains\n",
      " |  a list of the files that contributed to it, as well as a source_file_num\n",
      " |  dataset that points to each source file\n",
      " |  \n",
      " |  Methods defined here:\n",
      " |  \n",
      " |  __default_field_dict__(self)\n",
      " |  \n",
      " |  __init__(self, xy0=None, bin_W=[10000.0, 10000.0], tile_W=100000.0, SRS_proj4=None, time_field=None, z_field=None)\n",
      " |  \n",
      " |  __time_field__(self)\n",
      " |  \n",
      " |  __z_field__(self)\n",
      " |  \n",
      " |  from_geoIndex(self, GI_file=None, field_dict=None)\n",
      " |  \n",
      " |  write(self, out_dir, fields=None, append=True, ind_fields=['x', 'y', 'time'])\n",
      " |  \n",
      " |  ----------------------------------------------------------------------\n",
      " |  Data descriptors defined here:\n",
      " |  \n",
      " |  __dict__\n",
      " |      dictionary for instance variables (if defined)\n",
      " |  \n",
      " |  __weakref__\n",
      " |      list of weak references to the object (if defined)\n",
      "\n"
     ]
    }
   ],
   "source": [
    "import pointCollection as pc\n",
    "import os\n",
    "import numpy as np\n",
    "import matplotlib.pyplot as plt\n",
    "import glob\n",
    "help(pc.tile)\n",
    "%autoreload 2\n",
    "\n"
   ]
  },
  {
   "cell_type": "markdown",
   "metadata": {},
   "source": [
    "This class provides an interface for the lower-level indexedH5 class.  Tiles are usually generated based on an existing geoIndex.  The default process is to identify all the large-scale (typically 100-km) tiles in a geoindex, then for each tile, read all the bins and write the data in each of those bins into a separate file."
   ]
  },
  {
   "cell_type": "markdown",
   "metadata": {},
   "source": [
    "In our example (GeoIndex_demo.ipynb), we generated a set of files and indexed them.  Now let's turn these into a set of tiles:"
   ]
  },
  {
   "cell_type": "code",
   "execution_count": 71,
   "metadata": {},
   "outputs": [
    {
     "data": {
      "image/png": "[encoded data removed]",
      "text/plain": [
       "<Figure size 432x288 with 1 Axes>"
      ]
     },
     "metadata": {
      "needs_background": "light"
     },
     "output_type": "display_data"
    }
   ],
   "source": [
    "gi_file='test_data/for_geoindex/GeoIndex.h5'\n",
    "srs_proj4 = '+proj=stere +lat_0=-90 +lat_ts=-71 +lon_0=0 +k=1 +x_0=0 +y_0=0 +datum=WGS84 +units=m +no_defs '\n",
    "\n",
    "\n",
    "tile_dir='test_Data/for_geoindex/tiles'\n",
    "if not os.path.isdir(tile_dir):\n",
    "    os.mkdir(tile_dir)\n",
    "else:\n",
    "    for file in glob.glob(tile_dir+'/*.h5'):\n",
    "        os.remove(file)\n",
    "# get the bin locations\n",
    "bins=pc.geoIndex().from_file(gi_file).bins_as_array()\n",
    "\n",
    "# get the tile location from the bin locations\n",
    "tile_size=40.\n",
    "tile_x=np.unique(np.round(bins[0]/tile_size)*tile_size)\n",
    "tile_y=np.unique(np.round(bins[1]/tile_size)*tile_size)\n",
    "# make the tiles:\n",
    "plt.figure()\n",
    "for x0 in tile_x:\n",
    "    for y0 in tile_y:\n",
    "        xy0=[x0, y0]\n",
    "        this_tile=pc.tile(tile_W=tile_size, bin_W=[10, 10], SRS_proj4=srs_proj4, xy0=xy0)\\\n",
    "        .from_geoIndex(GI_file=gi_file, field_dict={None:['x','y','z','time']})\n",
    "        temp=pc.data().from_list(this_tile.D)\n",
    "        plt.plot(temp.x, temp.y,'.')\n",
    "        plt.axis('equal')\n",
    "        this_tile.write(tile_dir, fields=['x','y','time','z'])\n"
   ]
  },
  {
   "cell_type": "code",
   "execution_count": 37,
   "metadata": {},
   "outputs": [
    {
     "data": {
      "image/png": "[encoded data removed]",
      "text/plain": [
       "<Figure size 432x288 with 1 Axes>"
      ]
     },
     "metadata": {
      "needs_background": "light"
     },
     "output_type": "display_data"
    }
   ],
   "source": [
    "plt.figure()\n",
    "for file in glob.glob(tile_dir+'/*.h5'):\n",
    "    bins=pc.geoIndex(delta=[10, 10]).for_file(file, 'indexed_h5').bins_as_array()\n",
    "    plt.plot(bins[0], bins[1],'*', label=file)\n"
   ]
  },
  {
   "cell_type": "markdown",
   "metadata": {},
   "source": [
    "Tiles can also have data appended to them (so that as new data come in, the tiles don't need to be regenerated.)\n",
    "Let's generate some new data:"
   ]
  },
  {
   "cell_type": "code",
   "execution_count": 72,
   "metadata": {},
   "outputs": [],
   "source": [
    "test_dir='test_data/for_geoindex/other_diagonal'\n",
    "\n",
    "x=np.arange(-50, 50, dtype=np.float64)\n",
    "y=-0.8*x\n",
    "t=np.ones_like(x)\n",
    "\n",
    "if not os.path.isdir(test_dir):\n",
    "    os.mkdir(test_dir)\n",
    "for offset in np.arange(-40, 50, 10):\n",
    "    out_file=test_dir+'/data_%d.h5' % offset\n",
    "    pc.data().from_dict({'x':x+offset,'y':y, 'z':-(x+offset)**2 - y**2, 'time':t*offset}).to_h5(out_file)\n",
    "    \n",
    "test_files=glob.glob(test_dir+'/data*.h5')\n",
    "index_list = [pc.geoIndex(delta=[10,10]).for_file(file, 'h5') for file in test_files ]\n",
    "gi=pc.geoIndex(delta=[10, 10], SRS_proj4=srs_proj4).from_list(index_list, dir_root=test_dir+'/')\n",
    "gi.dir_root=None\n",
    "\n",
    "gi.to_file(os.getcwd()+'/'+test_dir+'/GeoIndex.h5')"
   ]
  },
  {
   "cell_type": "markdown",
   "metadata": {},
   "source": [
    "Now let's append it to the existing tiles:"
   ]
  },
  {
   "cell_type": "code",
   "execution_count": 73,
   "metadata": {},
   "outputs": [
    {
     "ename": "ValueError",
     "evalue": "Unable to set extend dataset (dimension cannot exceed the existing maximal size (new: 7 max: 6))",
     "output_type": "error",
     "traceback": [
      "\u001b[0;31m---------------------------------------------------------------------------\u001b[0m",
      "\u001b[0;31mValueError\u001b[0m                                Traceback (most recent call last)",
      "\u001b[0;32m<ipython-input-73-9d3ba3b4002c>\u001b[0m in \u001b[0;36m<module>\u001b[0;34m\u001b[0m\n\u001b[1;32m     18\u001b[0m         \u001b[0mplt\u001b[0m\u001b[0;34m.\u001b[0m\u001b[0mplot\u001b[0m\u001b[0;34m(\u001b[0m\u001b[0mtemp\u001b[0m\u001b[0;34m.\u001b[0m\u001b[0mx\u001b[0m\u001b[0;34m,\u001b[0m \u001b[0mtemp\u001b[0m\u001b[0;34m.\u001b[0m\u001b[0my\u001b[0m\u001b[0;34m,\u001b[0m\u001b[0;34m'.'\u001b[0m\u001b[0;34m)\u001b[0m\u001b[0;34m\u001b[0m\u001b[0;34m\u001b[0m\u001b[0m\n\u001b[1;32m     19\u001b[0m         \u001b[0mplt\u001b[0m\u001b[0;34m.\u001b[0m\u001b[0maxis\u001b[0m\u001b[0;34m(\u001b[0m\u001b[0;34m'equal'\u001b[0m\u001b[0;34m)\u001b[0m\u001b[0;34m\u001b[0m\u001b[0;34m\u001b[0m\u001b[0m\n\u001b[0;32m---> 20\u001b[0;31m         \u001b[0mthis_tile\u001b[0m\u001b[0;34m.\u001b[0m\u001b[0mwrite\u001b[0m\u001b[0;34m(\u001b[0m\u001b[0mtile_dir\u001b[0m\u001b[0;34m,\u001b[0m \u001b[0mfields\u001b[0m\u001b[0;34m=\u001b[0m\u001b[0;34m[\u001b[0m\u001b[0;34m'x'\u001b[0m\u001b[0;34m,\u001b[0m\u001b[0;34m'y'\u001b[0m\u001b[0;34m,\u001b[0m\u001b[0;34m'time'\u001b[0m\u001b[0;34m,\u001b[0m\u001b[0;34m'z'\u001b[0m\u001b[0;34m]\u001b[0m\u001b[0;34m,\u001b[0m \u001b[0mappend\u001b[0m\u001b[0;34m=\u001b[0m\u001b[0;32mTrue\u001b[0m\u001b[0;34m)\u001b[0m\u001b[0;34m\u001b[0m\u001b[0;34m\u001b[0m\u001b[0m\n\u001b[0m\u001b[1;32m     21\u001b[0m \u001b[0;34m\u001b[0m\u001b[0m\n\u001b[1;32m     22\u001b[0m \u001b[0mplt\u001b[0m\u001b[0;34m.\u001b[0m\u001b[0maxis\u001b[0m\u001b[0;34m(\u001b[0m\u001b[0;34m'equal'\u001b[0m\u001b[0;34m)\u001b[0m\u001b[0;34m\u001b[0m\u001b[0;34m\u001b[0m\u001b[0m\n",
      "\u001b[0;32m~/git_repos/pointCollection/tile.py\u001b[0m in \u001b[0;36mwrite\u001b[0;34m(self, out_dir, fields, append, ind_fields)\u001b[0m\n\u001b[1;32m     86\u001b[0m         pc.indexedH5.data(filename=out_file, bin_W=self.bin_W).to_file(D_all, \\\n\u001b[1;32m     87\u001b[0m                          \u001b[0mout_file\u001b[0m\u001b[0;34m,\u001b[0m \u001b[0mtime_field\u001b[0m\u001b[0;34m=\u001b[0m\u001b[0mself\u001b[0m\u001b[0;34m.\u001b[0m\u001b[0mtime_field\u001b[0m\u001b[0;34m,\u001b[0m \u001b[0mappend\u001b[0m\u001b[0;34m=\u001b[0m\u001b[0mappend\u001b[0m\u001b[0;34m,\u001b[0m\u001b[0;31m\\\u001b[0m\u001b[0;34m\u001b[0m\u001b[0;34m\u001b[0m\u001b[0m\n\u001b[0;32m---> 88\u001b[0;31m                          ind_fields=ind_fields)\n\u001b[0m\u001b[1;32m     89\u001b[0m         \u001b[0;32mwith\u001b[0m \u001b[0mh5py\u001b[0m\u001b[0;34m.\u001b[0m\u001b[0mFile\u001b[0m\u001b[0;34m(\u001b[0m\u001b[0mout_file\u001b[0m\u001b[0;34m,\u001b[0m\u001b[0;34m'r+'\u001b[0m\u001b[0;34m)\u001b[0m \u001b[0;32mas\u001b[0m \u001b[0mh5f\u001b[0m\u001b[0;34m:\u001b[0m\u001b[0;34m\u001b[0m\u001b[0;34m\u001b[0m\u001b[0m\n\u001b[1;32m     90\u001b[0m             \u001b[0mgrp\u001b[0m\u001b[0;34m=\u001b[0m\u001b[0mh5f\u001b[0m\u001b[0;34m.\u001b[0m\u001b[0mcreate_group\u001b[0m\u001b[0;34m(\u001b[0m\u001b[0;34m\"source_files\"\u001b[0m\u001b[0;34m)\u001b[0m\u001b[0;34m\u001b[0m\u001b[0;34m\u001b[0m\u001b[0m\n",
      "\u001b[0;32m~/git_repos/pointCollection/indexedH5/data.py\u001b[0m in \u001b[0;36mto_file\u001b[0;34m(self, D, out_file, time_field, append, ind_fields)\u001b[0m\n\u001b[1;32m     42\u001b[0m             \u001b[0;32mif\u001b[0m \u001b[0mappend\u001b[0m \u001b[0;32mand\u001b[0m \u001b[0mos\u001b[0m\u001b[0;34m.\u001b[0m\u001b[0mpath\u001b[0m\u001b[0;34m.\u001b[0m\u001b[0misfile\u001b[0m\u001b[0;34m(\u001b[0m\u001b[0mout_file\u001b[0m\u001b[0;34m)\u001b[0m\u001b[0;34m:\u001b[0m\u001b[0;34m\u001b[0m\u001b[0;34m\u001b[0m\u001b[0m\n\u001b[1;32m     43\u001b[0m                 D.copy_subset(bin_dict[tuple(key)]).append_to_h5(out_file, \\\n\u001b[0;32m---> 44\u001b[0;31m                              ind_fields=ind_fields, group=this_group)\n\u001b[0m\u001b[1;32m     45\u001b[0m             \u001b[0;32melse\u001b[0m\u001b[0;34m:\u001b[0m\u001b[0;34m\u001b[0m\u001b[0;34m\u001b[0m\u001b[0m\n\u001b[1;32m     46\u001b[0m                 D.copy_subset(bin_dict[tuple(key)]).to_h5(out_file, \\\n",
      "\u001b[0;32m~/git_repos/pointCollection/data.py\u001b[0m in \u001b[0;36mappend_to_h5\u001b[0;34m(self, file, group, ind_fields)\u001b[0m\n\u001b[1;32m    359\u001b[0m             \u001b[0;32mfor\u001b[0m \u001b[0mfield\u001b[0m \u001b[0;32min\u001b[0m \u001b[0mself\u001b[0m\u001b[0;34m.\u001b[0m\u001b[0mfields\u001b[0m\u001b[0;34m:\u001b[0m\u001b[0;34m\u001b[0m\u001b[0;34m\u001b[0m\u001b[0m\n\u001b[1;32m    360\u001b[0m                 \u001b[0;32mif\u001b[0m \u001b[0mgroup\u001b[0m \u001b[0;32min\u001b[0m \u001b[0mh5f\u001b[0m \u001b[0;32mand\u001b[0m \u001b[0mfield\u001b[0m \u001b[0;32min\u001b[0m \u001b[0mh5f\u001b[0m\u001b[0;34m[\u001b[0m\u001b[0mgroup\u001b[0m\u001b[0;34m]\u001b[0m\u001b[0;34m:\u001b[0m\u001b[0;34m\u001b[0m\u001b[0;34m\u001b[0m\u001b[0m\n\u001b[0;32m--> 361\u001b[0;31m                     \u001b[0mh5f\u001b[0m\u001b[0;34m[\u001b[0m\u001b[0mgroup\u001b[0m\u001b[0;34m]\u001b[0m\u001b[0;34m[\u001b[0m\u001b[0mfield\u001b[0m\u001b[0;34m]\u001b[0m\u001b[0;34m.\u001b[0m\u001b[0mresize\u001b[0m\u001b[0;34m(\u001b[0m\u001b[0;34m(\u001b[0m\u001b[0mold_N\u001b[0m\u001b[0;34m+\u001b[0m\u001b[0mnew_N\u001b[0m\u001b[0;34m,\u001b[0m\u001b[0;34m)\u001b[0m\u001b[0;34m)\u001b[0m\u001b[0;34m\u001b[0m\u001b[0;34m\u001b[0m\u001b[0m\n\u001b[0m\u001b[1;32m    362\u001b[0m                     \u001b[0mh5f\u001b[0m\u001b[0;34m[\u001b[0m\u001b[0mgroup\u001b[0m\u001b[0;34m]\u001b[0m\u001b[0;34m[\u001b[0m\u001b[0mfield\u001b[0m\u001b[0;34m]\u001b[0m\u001b[0;34m[\u001b[0m\u001b[0;34m-\u001b[0m\u001b[0mnew_N\u001b[0m\u001b[0;34m:\u001b[0m\u001b[0;34m]\u001b[0m\u001b[0;34m=\u001b[0m\u001b[0mgetattr\u001b[0m\u001b[0;34m(\u001b[0m\u001b[0mself\u001b[0m\u001b[0;34m,\u001b[0m \u001b[0mfield\u001b[0m\u001b[0;34m)\u001b[0m\u001b[0;34m[\u001b[0m\u001b[0mnew_ind\u001b[0m\u001b[0;34m]\u001b[0m\u001b[0;34m\u001b[0m\u001b[0;34m\u001b[0m\u001b[0m\n\u001b[1;32m    363\u001b[0m                 \u001b[0;32melse\u001b[0m\u001b[0;34m:\u001b[0m\u001b[0;34m\u001b[0m\u001b[0;34m\u001b[0m\u001b[0m\n",
      "\u001b[0;32m~/miniconda3/lib/python3.7/site-packages/h5py/_hl/dataset.py\u001b[0m in \u001b[0;36mresize\u001b[0;34m(self, size, axis)\u001b[0m\n\u001b[1;32m    436\u001b[0m \u001b[0;34m\u001b[0m\u001b[0m\n\u001b[1;32m    437\u001b[0m             \u001b[0msize\u001b[0m \u001b[0;34m=\u001b[0m \u001b[0mtuple\u001b[0m\u001b[0;34m(\u001b[0m\u001b[0msize\u001b[0m\u001b[0;34m)\u001b[0m\u001b[0;34m\u001b[0m\u001b[0;34m\u001b[0m\u001b[0m\n\u001b[0;32m--> 438\u001b[0;31m             \u001b[0mself\u001b[0m\u001b[0;34m.\u001b[0m\u001b[0mid\u001b[0m\u001b[0;34m.\u001b[0m\u001b[0mset_extent\u001b[0m\u001b[0;34m(\u001b[0m\u001b[0msize\u001b[0m\u001b[0;34m)\u001b[0m\u001b[0;34m\u001b[0m\u001b[0;34m\u001b[0m\u001b[0m\n\u001b[0m\u001b[1;32m    439\u001b[0m             \u001b[0;31m#h5f.flush(self.id)  # THG recommends\u001b[0m\u001b[0;34m\u001b[0m\u001b[0;34m\u001b[0m\u001b[0;34m\u001b[0m\u001b[0m\n\u001b[1;32m    440\u001b[0m \u001b[0;34m\u001b[0m\u001b[0m\n",
      "\u001b[0;32mh5py/_objects.pyx\u001b[0m in \u001b[0;36mh5py._objects.with_phil.wrapper\u001b[0;34m()\u001b[0m\n",
      "\u001b[0;32mh5py/_objects.pyx\u001b[0m in \u001b[0;36mh5py._objects.with_phil.wrapper\u001b[0;34m()\u001b[0m\n",
      "\u001b[0;32mh5py/h5d.pyx\u001b[0m in \u001b[0;36mh5py.h5d.DatasetID.set_extent\u001b[0;34m()\u001b[0m\n",
      "\u001b[0;31mValueError\u001b[0m: Unable to set extend dataset (dimension cannot exceed the existing maximal size (new: 7 max: 6))"
     ]
    },
    {
     "data": {
      "image/png": "[encoded data removed]",
      "text/plain": [
       "<Figure size 432x288 with 1 Axes>"
      ]
     },
     "metadata": {
      "needs_background": "light"
     },
     "output_type": "display_data"
    }
   ],
   "source": [
    "gi_file=os.getcwd()+'/'+test_dir+'/GeoIndex.h5'\n",
    "bins=pc.geoIndex().from_file(gi_file).bins_as_array()\n",
    "\n",
    "# get the tile location from the bin locations\n",
    "tile_size=40.\n",
    "tile_x=np.unique(np.round(bins[0]/tile_size)*tile_size)\n",
    "tile_y=np.unique(np.round(bins[1]/tile_size)*tile_size)\n",
    "# make the tiles:\n",
    "plt.figure()\n",
    "for x0 in tile_x:\n",
    "    for y0 in tile_y:\n",
    "        xy0=[x0, y0]\n",
    "        this_tile=pc.tile(tile_W=tile_size, bin_W=[10, 10], SRS_proj4=srs_proj4, xy0=xy0)\\\n",
    "        .from_geoIndex(GI_file=gi_file, field_dict={None:['x','y','z','time']})\n",
    "        if this_tile.D is None:\n",
    "            continue\n",
    "        temp=pc.data().from_list(this_tile.D)\n",
    "        plt.plot(temp.x, temp.y,'.')\n",
    "        plt.axis('equal')\n",
    "        this_tile.write(tile_dir, fields=['x','y','time','z'], append=True)\n",
    "\n",
    "plt.axis('equal')"
   ]
  },
  {
   "cell_type": "code",
   "execution_count": 69,
   "metadata": {},
   "outputs": [
    {
     "data": {
      "text/plain": [
       "'/Users/ben/git_repos/pointCollection/test_data/for_geoindex/other_diagonal/GeoIndex.h5'"
      ]
     },
     "execution_count": 69,
     "metadata": {},
     "output_type": "execute_result"
    }
   ],
   "source": [
    "gi_file"
   ]
  },
  {
   "cell_type": "markdown",
   "metadata": {},
   "source": [
    "Now let's see what we have:"
   ]
  },
  {
   "cell_type": "code",
   "execution_count": 65,
   "metadata": {},
   "outputs": [
    {
     "name": "stdout",
     "output_type": "stream",
     "text": [
      "test_Data/for_geoindex/tiles/E-40_N40.h5\n",
      "test_Data/for_geoindex/tiles/E0_N0.h5\n",
      "test_Data/for_geoindex/tiles/E-40_N-40.h5\n",
      "test_Data/for_geoindex/tiles/E-80_N0.h5\n",
      "test_Data/for_geoindex/tiles/E-40_N0.h5\n",
      "test_Data/for_geoindex/tiles/E0_N-40.h5\n",
      "test_Data/for_geoindex/tiles/E80_N-40.h5\n",
      "test_Data/for_geoindex/tiles/E0_N40.h5\n",
      "test_Data/for_geoindex/tiles/E40_N40.h5\n",
      "test_Data/for_geoindex/tiles/E40_N0.h5\n",
      "test_Data/for_geoindex/tiles/E80_N0.h5\n",
      "test_Data/for_geoindex/tiles/E-80_N40.h5\n",
      "test_Data/for_geoindex/tiles/E40_N-40.h5\n"
     ]
    },
    {
     "data": {
      "text/plain": [
       "(-98.9, 96.9, -54.980000000000004, 54.58)"
      ]
     },
     "execution_count": 65,
     "metadata": {},
     "output_type": "execute_result"
    },
    {
     "data": {
      "image/png": "[encoded data removed]",
      "text/plain": [
       "<Figure size 432x288 with 1 Axes>"
      ]
     },
     "metadata": {
      "needs_background": "light"
     },
     "output_type": "display_data"
    }
   ],
   "source": [
    "plt.figure()\n",
    "for file in glob.glob(tile_dir+'/*.h5'):\n",
    "    print(file)\n",
    "    bins=pc.geoIndex(delta=[10, 10]).for_file(file, 'indexed_h5').bins_as_array()\n",
    "    xy=pc.indexedH5.data(filename=file).read(bins, fields=['x','y'])\n",
    "    plt.plot(xy.x, xy.y,'.')\n",
    "plt.axis('equal')"
   ]
  },
  {
   "cell_type": "code",
   "execution_count": 53,
   "metadata": {},
   "outputs": [
    {
     "ename": "NameError",
     "evalue": "name 'xy' is not defined",
     "output_type": "error",
     "traceback": [
      "\u001b[0;31m---------------------------------------------------------------------------\u001b[0m",
      "\u001b[0;31mNameError\u001b[0m                                 Traceback (most recent call last)",
      "\u001b[0;32m<ipython-input-53-f3603995b6f3>\u001b[0m in \u001b[0;36m<module>\u001b[0;34m\u001b[0m\n\u001b[0;32m----> 1\u001b[0;31m \u001b[0mxy\u001b[0m\u001b[0;34m\u001b[0m\u001b[0;34m\u001b[0m\u001b[0m\n\u001b[0m",
      "\u001b[0;31mNameError\u001b[0m: name 'xy' is not defined"
     ]
    }
   ],
   "source": []
  },
  {
   "cell_type": "code",
   "execution_count": 66,
   "metadata": {},
   "outputs": [
    {
     "data": {
      "text/plain": [
       "'/Users/ben/git_repos/pointCollection/test_data/for_geoindex/other_diagonal/GeoIndex.h5'"
      ]
     },
     "execution_count": 66,
     "metadata": {},
     "output_type": "execute_result"
    }
   ],
   "source": [
    "gi_file"
   ]
  },
  {
   "cell_type": "code",
   "execution_count": null,
   "metadata": {},
   "outputs": [],
   "source": []
  }
 ],
 "metadata": {
  "kernelspec": {
   "display_name": "Python 3",
   "language": "python",
   "name": "python3"
  },
  "language_info": {
   "codemirror_mode": {
    "name": "ipython",
    "version": 3
   },
   "file_extension": ".py",
   "mimetype": "text/x-python",
   "name": "python",
   "nbconvert_exporter": "python",
   "pygments_lexer": "ipython3",
   "version": "3.7.3"
  }
 },
 "nbformat": 4,
 "nbformat_minor": 2
}
