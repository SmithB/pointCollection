{
 "cells": [
  {
   "cell_type": "code",
   "execution_count": 39,
   "metadata": {},
   "outputs": [
    {
     "name": "stdout",
     "output_type": "stream",
     "text": [
      "The autoreload extension is already loaded. To reload it, use:\n",
      "  %reload_ext autoreload\n"
     ]
    }
   ],
   "source": [
    "import numpy as np\n",
    "import pointCollection as pc\n",
    "import matplotlib.pyplot as plt\n",
    "import os\n",
    "%load_ext autoreload\n",
    "%autoreload 2"
   ]
  },
  {
   "cell_type": "markdown",
   "metadata": {},
   "source": [
    "The simplest way to create a data object is from a dictionary, using the from_dict() method:"
   ]
  },
  {
   "cell_type": "code",
   "execution_count": 40,
   "metadata": {},
   "outputs": [
    {
     "name": "stdout",
     "output_type": "stream",
     "text": [
      "<class 'pointCollection.data.data'> with shape (10,),\n",
      "with fields:\n",
      "['x', 'y', 'z']\n"
     ]
    },
    {
     "data": {
      "text/plain": [
       "<matplotlib.collections.PathCollection at 0x7f51dc6de208>"
      ]
     },
     "execution_count": 40,
     "metadata": {},
     "output_type": "execute_result"
    },
    {
     "data": {
      "image/png": "[encoded data removed]",
      "text/plain": [
       "<Figure size 432x288 with 1 Axes>"
      ]
     },
     "metadata": {
      "needs_background": "light"
     },
     "output_type": "display_data"
    }
   ],
   "source": [
    "x=np.arange(10)\n",
    "y=x**2\n",
    "z=y\n",
    "D = pc.data().from_dict({'x':x,'y':y,'z':z})\n",
    "print(D)\n",
    "plt.figure(1); plt.scatter(D.x, D.y, c=D.z)"
   ]
  },
  {
   "cell_type": "markdown",
   "metadata": {},
   "source": [
    "It is also possible to create a data object from a list of other data objects using the from_list() method. The resulting object will have all of the fields from all of the items in the list, with missing fields filled in with NaNs"
   ]
  },
  {
   "cell_type": "code",
   "execution_count": 41,
   "metadata": {},
   "outputs": [
    {
     "name": "stdout",
     "output_type": "stream",
     "text": [
      "<class 'pointCollection.data.data'> with shape (20,),\n",
      "with fields:\n",
      "['z', 'y', 't', 'x']\n",
      "D2.t is:\n",
      "[nan nan nan nan nan nan nan nan nan nan -2. -1.  0.  1.  2.  3.  4.  5.\n",
      "  6.  7.]\n"
     ]
    },
    {
     "data": {
      "text/plain": [
       "<matplotlib.collections.PathCollection at 0x7f51dc67bf28>"
      ]
     },
     "execution_count": 41,
     "metadata": {},
     "output_type": "execute_result"
    },
    {
     "data": {
      "image/png": "[encoded data removed]",
      "text/plain": [
       "<Figure size 432x288 with 1 Axes>"
      ]
     },
     "metadata": {
      "needs_background": "light"
     },
     "output_type": "display_data"
    }
   ],
   "source": [
    "D1 = pc.data().from_dict({'x':-x,'y':-y,'z':z,'t':x-2})\n",
    "D2 = pc.data().from_list([D, D1])\n",
    "print(D2)\n",
    "print(\"D2.t is:\")\n",
    "print(D2.t)\n",
    "plt.figure(2); plt.scatter(D2.x, D2.y, c=D2.z)"
   ]
  },
  {
   "cell_type": "markdown",
   "metadata": {},
   "source": [
    "Data structures can also be sliced using bracket notation, which is an alternative for the copy_subset() method.  If the data() structure has the columns keyword set, then a 1-d slice index will return a data structure with dimensions n x N_cols, otherwise it will be 1-D."
   ]
  },
  {
   "cell_type": "code",
   "execution_count": 42,
   "metadata": {},
   "outputs": [
    {
     "name": "stdout",
     "output_type": "stream",
     "text": [
      "<class 'pointCollection.data.data'> with shape (8,),\n",
      "with fields:\n",
      "['z', 'y', 't', 'x']\n"
     ]
    },
    {
     "data": {
      "text/plain": [
       "<matplotlib.collections.PathCollection at 0x7f51dc5e0e80>"
      ]
     },
     "execution_count": 42,
     "metadata": {},
     "output_type": "execute_result"
    },
    {
     "data": {
      "image/png": "[encoded data removed]",
      "text/plain": [
       "<Figure size 432x288 with 1 Axes>"
      ]
     },
     "metadata": {
      "needs_background": "light"
     },
     "output_type": "display_data"
    }
   ],
   "source": [
    "D3=D2[np.abs(D2.x)< 4]\n",
    "print(D3)\n",
    "plt.figure(3); plt.scatter(D3.x, D3.y, c=D3.z)"
   ]
  },
  {
   "cell_type": "markdown",
   "metadata": {},
   "source": [
    "_data_ objects can be written to hdf5 files with the to_h5() method, and the destination group is specified with the group keyword.  Reading from a file uses the from_h5() method."
   ]
  },
  {
   "cell_type": "code",
   "execution_count": 43,
   "metadata": {},
   "outputs": [
    {
     "name": "stdout",
     "output_type": "stream",
     "text": [
      "wrote data:\n",
      "<class 'pointCollection.data.data'> with shape (20,),\n",
      "with fields:\n",
      "['z', 'y', 't', 'x']\n",
      "read data:\n",
      "<class 'pointCollection.data.data'> with shape (20,),\n",
      "with fields:\n",
      "['t', 'x', 'y', 'z']\n"
     ]
    }
   ],
   "source": [
    "D2.to_h5('data_test.h5', replace=True, group='dummy')\n",
    "D4=pc.data().from_h5('data_test.h5', group='dummy')\n",
    "print(\"wrote data:\")\n",
    "print(D2)\n",
    "print(\"read data:\")\n",
    "print(D4)"
   ]
  },
  {
   "cell_type": "markdown",
   "metadata": {},
   "source": [
    "Data types other than the basic _data_ class are added by introducing subclasses into the pointCollection module.  One example is the ATL06 data type:"
   ]
  },
  {
   "cell_type": "code",
   "execution_count": 44,
   "metadata": {},
   "outputs": [
    {
     "name": "stdout",
     "output_type": "stream",
     "text": [
      "<class 'pointCollection.ATL06.data.data'> with shape (59231, 2),\n",
      "with fields:\n",
      "['delta_time', 'h_li', 'h_li_sigma', 'latitude', 'longitude', 'atl06_quality_summary', 'segment_id', 'sigma_geo_h', 'x_atc', 'y_atc', 'seg_azimuth', 'sigma_geo_at', 'sigma_geo_xt', 'dh_fit_dx', 'dh_fit_dx_sigma', 'h_mean', 'dh_fit_dy', 'h_rms_misfit', 'h_robust_sprd', 'n_fit_photons', 'signal_selection_source', 'snr_significance', 'w_surface_window_final', 'bsnow_conf', 'bsnow_h', 'cloud_flg_asr', 'cloud_flg_atm', 'r_eff', 'tide_ocean', 'valid', 'BP', 'LR', 'cycle_number', 'rgt']\n"
     ]
    }
   ],
   "source": [
    "ATL06_file='../test_data/ATL06_20190205041106_05910210_209_01.h5'\n",
    "D_06=pc.ATL06.data().from_h5(ATL06_file)\n",
    "print(D_06)"
   ]
  },
  {
   "cell_type": "markdown",
   "metadata": {},
   "source": [
    "_data_ objects have a get_xy() method that creates x and y fields based on latitude and longitude fields.  It takes an argument specifying the coordinate system, which can either be a proj4 string (as a keyword or non-keyword argument) or an EPSG number (as a keyword)"
   ]
  },
  {
   "cell_type": "code",
   "execution_count": 45,
   "metadata": {},
   "outputs": [
    {
     "data": {
      "image/png": "[encoded data removed]",
      "text/plain": [
       "<Figure size 432x288 with 1 Axes>"
      ]
     },
     "metadata": {
      "needs_background": "light"
     },
     "output_type": "display_data"
    }
   ],
   "source": [
    "D_06.get_xy(EPSG=3031)\n",
    "# equivalent to D_06.get_xy(+proj=stere +lat_0=-90 +lat_ts=-71 +lon_0=0 +k=1 +x_0=0 +y_0=0 +datum=WGS84 +units=m +no_defs')\n",
    "plt.figure()\n",
    "plt.plot(D_06.x, D_06.y, '.'); plt.xlabel('x'); plt.ylabel('y')\n",
    "plt.axis('equal');"
   ]
  },
  {
   "cell_type": "markdown",
   "metadata": {},
   "source": [
    "### Existing formats\n",
    "\n",
    "Currently, subclasses of data include: \n",
    "\n",
    "ATL06: ICESat-2 elevation data\n",
    "\n",
    "ATM_Qfit: scanning laser altimetry data\n",
    "\n",
    "indexed_H5: a generic class for storing data in hdf files that include small tiles that can be read and written quickly\n",
    "\n",
    "grid: gridded data that can handle hdf5 grids and geotifs\n",
    "\n",
    "Each format defines the default fields to be read, adds keyword options to the from_h5() method, and (sometimes) adds methods to the data class."
   ]
  },
  {
   "cell_type": "markdown",
   "metadata": {},
   "source": [
    "### Choosing fields to be read\n",
    "\n",
    "If you don't want to read all of the fields in the defaults defined by data subclasses, and just want to read data from and HDF file, you can specify the fields using a dictionary in the field_dict keyword, where the keys to the dictionary define the groups to be read and the (list) entries give the fields."
   ]
  },
  {
   "cell_type": "code",
   "execution_count": 46,
   "metadata": {},
   "outputs": [
    {
     "data": {
      "text/plain": [
       "[<matplotlib.lines.Line2D at 0x7f51dc52dcf8>]"
      ]
     },
     "execution_count": 46,
     "metadata": {},
     "output_type": "execute_result"
    },
    {
     "data": {
      "image/png": "[encoded data removed]",
      "text/plain": [
       "<Figure size 432x288 with 1 Axes>"
      ]
     },
     "metadata": {
      "needs_background": "light"
     },
     "output_type": "display_data"
    }
   ],
   "source": [
    "Dsub=pc.data().from_h5(ATL06_file, field_dict={'gt1l/land_ice_segments/':['h_li', 'segment_id', 'atl06_quality_summary']})\n",
    "Dsub.index(Dsub.atl06_quality_summary==0)\n",
    "plt.plot(Dsub.segment_id, Dsub.h_li,'.')"
   ]
  }
 ],
 "metadata": {
  "kernelspec": {
   "display_name": "Python 3",
   "language": "python",
   "name": "python3"
  },
  "language_info": {
   "codemirror_mode": {
    "name": "ipython",
    "version": 3
   },
   "file_extension": ".py",
   "mimetype": "text/x-python",
   "name": "python",
   "nbconvert_exporter": "python",
   "pygments_lexer": "ipython3",
   "version": "3.8.2"
  }
 },
 "nbformat": 4,
 "nbformat_minor": 2
}
