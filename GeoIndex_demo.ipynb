{
 "cells": [
  {
   "cell_type": "code",
   "execution_count": 1,
   "metadata": {},
   "outputs": [],
   "source": [
    "%load_ext autoreload\n",
    "%autoreload 2;"
   ]
  },
  {
   "cell_type": "code",
   "execution_count": 2,
   "metadata": {},
   "outputs": [],
   "source": [
    "import pointCollection as pc\n",
    "import numpy as np\n",
    "import matplotlib.pyplot as plt\n",
    "import os\n",
    "import glob"
   ]
  },
  {
   "cell_type": "markdown",
   "metadata": {},
   "source": [
    "# The geoIndex class\n",
    "The GeoIndex class is designed to allow us to find data for a specific area from a file or a collection of files.  It works by subdividing the data into bins, and keeping track of where in a file each particular bin is found.  To illustrate how it works, we will make a simple data set, and generate an index for it."
   ]
  },
  {
   "cell_type": "markdown",
   "metadata": {},
   "source": [
    "First, we'll generate a set of data:"
   ]
  },
  {
   "cell_type": "code",
   "execution_count": 3,
   "metadata": {},
   "outputs": [
    {
     "data": {
      "text/plain": [
       "(-54.95, 53.95, -10.99, 10.790000000000001)"
      ]
     },
     "execution_count": 3,
     "metadata": {},
     "output_type": "execute_result"
    },
    {
     "data": {
      "image/png": "[encoded data removed]",
      "text/plain": [
       "<Figure size 432x288 with 1 Axes>"
      ]
     },
     "metadata": {
      "needs_background": "light"
     },
     "output_type": "display_data"
    }
   ],
   "source": [
    "# define a set of data points:\n",
    "x=np.arange(-50, 50, dtype=np.float64)\n",
    "y=0.2*x\n",
    "t=np.ones_like(x)\n",
    "z=x**2+y**2\n",
    "plt.figure(1); plt.clf()\n",
    "plt.plot(x, y,'k.')\n",
    "plt.axis('equal')"
   ]
  },
  {
   "cell_type": "markdown",
   "metadata": {},
   "source": [
    "Next, we'll generate a geoIndex for the points, with 10-unit bins. We'll use the geoIndex.from_xy() method, which makes a geoIndex for based on the data locations."
   ]
  },
  {
   "cell_type": "code",
   "execution_count": 4,
   "metadata": {},
   "outputs": [
    {
     "name": "stdout",
     "output_type": "stream",
     "text": [
      "<class 'pointCollection.geoIndex.geoIndex'> with 11 bins, referencing 1 files\n"
     ]
    }
   ],
   "source": [
    "gi=pc.geoIndex(delta=[10, 10]).from_xy([x, y])\n",
    "print(gi)"
   ]
  },
  {
   "cell_type": "markdown",
   "metadata": {},
   "source": [
    "A geoIndex is just a subclass of a dict, so it has a keys() method.  Each key is the x and y coordinates of the bin, separated by an underscore.  "
   ]
  },
  {
   "cell_type": "code",
   "execution_count": 5,
   "metadata": {},
   "outputs": [
    {
     "data": {
      "text/plain": [
       "dict_keys(['0_0', '-10_0', '10_0', '-20_0', '20_0', '-30_-10', '30_10', '-40_-10', '40_10', '-50_-10', '50_10'])"
      ]
     },
     "execution_count": 5,
     "metadata": {},
     "output_type": "execute_result"
    }
   ],
   "source": [
    "gi.keys()"
   ]
  },
  {
   "cell_type": "markdown",
   "metadata": {},
   "source": [
    "Next, let's plot the bin locations. The geoIndex.bins_as_array() method, which returns the locations of the bins in the geoIndex as a list of two arrays:"
   ]
  },
  {
   "cell_type": "code",
   "execution_count": 6,
   "metadata": {},
   "outputs": [
    {
     "data": {
      "image/png": "[encoded data removed]",
      "text/plain": [
       "<Figure size 432x288 with 1 Axes>"
      ]
     },
     "metadata": {
      "needs_background": "light"
     },
     "output_type": "display_data"
    }
   ],
   "source": [
    "# plot the data and the bins\n",
    "plt.figure(1); plt.clf()\n",
    "plt.plot(x, y,'k.')\n",
    "xyb=gi.bins_as_array()\n",
    "plt.plot(xyb[0], xyb[1],'r*')\n",
    "plt.axis('equal');"
   ]
  },
  {
   "cell_type": "markdown",
   "metadata": {},
   "source": [
    "We can then query the geoIndex for the data associated with a particular bin. To get the data associated with the bin at (10, 0), we just index it with that bin's keys:"
   ]
  },
  {
   "cell_type": "code",
   "execution_count": 7,
   "metadata": {},
   "outputs": [
    {
     "name": "stdout",
     "output_type": "stream",
     "text": [
      "{'file_num': array([0]), 'offset_start': array([56]), 'offset_end': array([64])}\n"
     ]
    }
   ],
   "source": [
    "Q=gi['10_0']\n",
    "print(Q)"
   ]
  },
  {
   "cell_type": "markdown",
   "metadata": {},
   "source": [
    "This tells us that the data for the bin at (10,0) has indices between 56 and 64."
   ]
  },
  {
   "cell_type": "code",
   "execution_count": 8,
   "metadata": {},
   "outputs": [
    {
     "data": {
      "image/png": "[encoded data removed]",
      "text/plain": [
       "<Figure size 432x288 with 1 Axes>"
      ]
     },
     "metadata": {
      "needs_background": "light"
     },
     "output_type": "display_data"
    }
   ],
   "source": [
    "this_index=np.arange(Q['offset_start'], Q['offset_end'])\n",
    "plt.plot(x,y,'k.')\n",
    "plt.plot(10,0,'r*')\n",
    "plt.plot(x[this_index], y[this_index],'go')\n",
    "plt.axis('equal');"
   ]
  },
  {
   "cell_type": "markdown",
   "metadata": {},
   "source": [
    "To avoid generating bin names by hand, we can just call the query_xy() method, which takes a tuple of two numpy arrays containing the bin locations.  This can be done for multiple bins, and the results will be stitched together into a useful set of query results.\n",
    "## The Geoindex class for files on disk\n",
    "The class is much more useful when we have a number of datasets on disk and we need to index them as a group.  Let's make a some data files on disk, which will be a set of diagonal parallel lines of points:"
   ]
  },
  {
   "cell_type": "code",
   "execution_count": 22,
   "metadata": {},
   "outputs": [],
   "source": [
    "test_dir='test_data/for_geoindex'\n",
    "if not os.path.isdir(test_dir):\n",
    "    os.mkdir(test_dir)\n",
    "for offset in np.arange(-40, 50, 10):\n",
    "    out_file=test_dir+'/data_%d.h5' % offset\n",
    "    pc.data().from_dict({'x':x,'y':y+offset, 'z':x**2+(y+offset)**2, 'time':t*offset}).to_h5(out_file)"
   ]
  },
  {
   "cell_type": "markdown",
   "metadata": {},
   "source": [
    "Let's make a geoIndex for the files and look at it."
   ]
  },
  {
   "cell_type": "code",
   "execution_count": 23,
   "metadata": {},
   "outputs": [
    {
     "data": {
      "text/plain": [
       "(-55.0, 55.0, -55.0, 55.0)"
      ]
     },
     "execution_count": 23,
     "metadata": {},
     "output_type": "execute_result"
    },
    {
     "data": {
      "image/png": "[encoded data removed]",
      "text/plain": [
       "<Figure size 432x288 with 1 Axes>"
      ]
     },
     "metadata": {
      "needs_background": "light"
     },
     "output_type": "display_data"
    }
   ],
   "source": [
    "test_files=glob.glob(test_dir+'/*.h5')\n",
    "gi_2=pc.geoIndex(delta=[10,10]).for_files(test_files,'h5')\n",
    "xy_bin=gi_2.bins_as_array()\n",
    "plt.figure(); \n",
    "plt.plot(xy_bin[0], xy_bin[1],'r*')\n",
    "plt.axis('equal')"
   ]
  },
  {
   "cell_type": "markdown",
   "metadata": {},
   "source": [
    "Looking at the entry for a particular bin shows how we store the index information:"
   ]
  },
  {
   "cell_type": "code",
   "execution_count": 24,
   "metadata": {},
   "outputs": [
    {
     "name": "stdout",
     "output_type": "stream",
     "text": [
      "{'file_num': array([4, 5]), 'offset_start': array([65, 75]), 'offset_end': array([75, 75])}\n",
      "test_data/for_geoindex/data_-20.h5\n",
      "test_data/for_geoindex/data_-30.h5\n"
     ]
    }
   ],
   "source": [
    "print(gi_2['20_-20'])\n",
    "print(gi_2.attrs['file_4'])\n",
    "print(gi_2.attrs['file_5'])"
   ]
  },
  {
   "cell_type": "markdown",
   "metadata": {},
   "source": [
    "The contents of gi_2 at (20, -20) indicate that the data are in file number 4 for indices between 65 and 75, and in file 5, for indices between 75 and 75 (inclusive).  files 4 and 5 are test_data/for_geoindex/data_-20.h5\n",
    "test_data/for_geoindex/data_-30.h5, respectively.\n",
    "\n",
    "Let's retrieve the data for three bins:"
   ]
  },
  {
   "cell_type": "code",
   "execution_count": 25,
   "metadata": {},
   "outputs": [
    {
     "name": "stdout",
     "output_type": "stream",
     "text": [
      "[<class 'pointCollection.data.data'> with shape (20,),\n",
      "with fields:\n",
      "['x', 'y'], <class 'pointCollection.data.data'> with shape (19,),\n",
      "with fields:\n",
      "['x', 'y']]\n"
     ]
    }
   ],
   "source": [
    "D=gi_2.query_xy((np.array([10,20, 30, 40]), np.array([20, 20, 20, 20])), fields={None:['x','y']})\n",
    "print(D)"
   ]
  },
  {
   "cell_type": "markdown",
   "metadata": {},
   "source": [
    "The result is a list of two pc.data objects, that together contain the data we requested:"
   ]
  },
  {
   "cell_type": "code",
   "execution_count": 13,
   "metadata": {},
   "outputs": [
    {
     "data": {
      "image/png": "[encoded data removed]",
      "text/plain": [
       "<Figure size 432x288 with 1 Axes>"
      ]
     },
     "metadata": {
      "needs_background": "light"
     },
     "output_type": "display_data"
    }
   ],
   "source": [
    "plt.plot(xy_bin[0], xy_bin[1],'r*')\n",
    "plt.axis('equal')\n",
    "for Di in D: \n",
    "    plt.plot(Di.x, Di.y,'.')"
   ]
  },
  {
   "cell_type": "markdown",
   "metadata": {},
   "source": [
    "We can also query a range of bins using the query_xy_box() method.  Let's get all the data for bins between x=0 and x=30, and for bins between y=-20 and y=20."
   ]
  },
  {
   "cell_type": "code",
   "execution_count": 17,
   "metadata": {},
   "outputs": [
    {
     "name": "stdout",
     "output_type": "stream",
     "text": [
      "{'test_data/for_geoindex/data_0.h5': {'type': 'h5', 'offset_start': array([45]), 'offset_end': array([55]), 'x': array([0]), 'y': array([0])}}\n"
     ]
    },
    {
     "data": {
      "image/png": "[encoded data removed]",
      "text/plain": [
       "<Figure size 432x288 with 1 Axes>"
      ]
     },
     "metadata": {
      "needs_background": "light"
     },
     "output_type": "display_data"
    }
   ],
   "source": [
    "XR=np.array([0, 30])\n",
    "YR=np.array([-20, 20])\n",
    "\n",
    "D=gi_2.query_xy_box(XR, YR, fields={None:['x','y']})\n",
    "plt.plot(xy_bin[0], xy_bin[1],'r*')\n",
    "plt.axis('equal')\n",
    "for Di in D: \n",
    "    plt.plot(Di.x, Di.y,'.')\n",
    "plt.plot(XR[[0, 0, 1, 1, 0]], YR[[0, 1, 1, 0, 0]],'k')\n",
    "\n",
    "D1=gi_2.query_xy((np.array(0), np.array(0)), fields={None:['x','y']}, get_data=False)\n",
    "print(D1)\n",
    "#plt.plot(D1[0].x, D1[0].y,'mo')"
   ]
  },
  {
   "cell_type": "markdown",
   "metadata": {},
   "source": [
    "Note that the recovered data extend outside the box that we specified, because query_xy_box finds the data for the bin centers within the box, and each bin extends 1/2 of the bin spacing around its center."
   ]
  },
  {
   "cell_type": "markdown",
   "metadata": {},
   "source": [
    "## Changing data paths\n",
    "Let's look again at how the files containing the data in gi_2 are specified:"
   ]
  },
  {
   "cell_type": "code",
   "execution_count": 18,
   "metadata": {},
   "outputs": [
    {
     "name": "stdout",
     "output_type": "stream",
     "text": [
      "test_data/for_geoindex/data_40.h5\n"
     ]
    }
   ],
   "source": [
    "print(gi_2.attrs['file_0'])"
   ]
  },
  {
   "cell_type": "markdown",
   "metadata": {},
   "source": [
    "The files specified relative to the current directory, which means that if we use the geoindex from a different directory, it won't work.  The way to fix this is to specify a 'dir_root' attribute for the index during its creation.  The files will then be specified relative to that location."
   ]
  },
  {
   "cell_type": "code",
   "execution_count": 19,
   "metadata": {},
   "outputs": [
    {
     "name": "stdout",
     "output_type": "stream",
     "text": [
      "test_data/for_geoindex/data_40.h5\n",
      "/Users/ben/git_repos/pointCollection/\n"
     ]
    }
   ],
   "source": [
    "gi_3=pc.geoIndex(delta=[10,10]).for_files(test_files,'h5', dir_root=os.getcwd()+'/')\n",
    "print(gi_3.attrs['file_0'])\n",
    "print(gi_3.attrs['dir_root'])"
   ]
  },
  {
   "cell_type": "markdown",
   "metadata": {},
   "source": [
    "It is then possible to change the root location of a geoIndex, which is handy when moving groups of data files:"
   ]
  },
  {
   "cell_type": "code",
   "execution_count": 20,
   "metadata": {},
   "outputs": [
    {
     "name": "stdout",
     "output_type": "stream",
     "text": [
      "/data_40.h5\n",
      "/Users/ben/git_repos/pointCollection/test_data/for_geoindex\n"
     ]
    }
   ],
   "source": [
    "gi_3.change_root(os.getcwd()+'/'+test_dir+'/')\n",
    "print(gi_3.attrs['file_0'])\n",
    "print(gi_3.attrs['dir_root'])"
   ]
  },
  {
   "cell_type": "markdown",
   "metadata": {},
   "source": [
    "Another option (which should probably be the default for most applications) is to generate the geoindex with a dir_root set to the location where you intend to store the geoindex, then set its dir_root attribute to None.  If you've done this, pc.geoIndex will look for files assuming their locations are relative to the location of the geoindex.  If you move the geoindex with the data, it will still work!"
   ]
  },
  {
   "cell_type": "code",
   "execution_count": 26,
   "metadata": {},
   "outputs": [],
   "source": [
    "srs_proj4 = '+proj=stere +lat_0=-90 +lat_ts=-71 +lon_0=0 +k=1 +x_0=0 +y_0=0 +datum=WGS84 +units=m +no_defs '\n",
    "\n",
    "index_list = [pc.geoIndex(delta=[10,10]).for_file(file, 'h5') for file in test_files ]\n",
    "gi_4=pc.geoIndex(delta=[10, 10], SRS_proj4=srs_proj4).from_list(index_list, dir_root=test_dir+'/')\n",
    "gi_4.dir_root=None\n",
    "\n",
    "gi_4.to_file(os.getcwd()+'/'+test_dir+'/GeoIndex.h5')"
   ]
  },
  {
   "cell_type": "markdown",
   "metadata": {},
   "source": [
    "Note that we had to specify a projection in creating the geoIndex to be able to write it to disk.  This is a fug for now (that's feature/bug for those of you who don't understand terms that I just made up.)"
   ]
  },
  {
   "cell_type": "markdown",
   "metadata": {},
   "source": [
    "A helper script that does the same thing as that previous tile is index_glob.py.  It can be run from the command line to make an index for a collection of files."
   ]
  },
  {
   "cell_type": "code",
   "execution_count": null,
   "metadata": {},
   "outputs": [],
   "source": []
  },
  {
   "cell_type": "code",
   "execution_count": null,
   "metadata": {},
   "outputs": [],
   "source": []
  }
 ],
 "metadata": {
  "kernelspec": {
   "display_name": "Python 3",
   "language": "python",
   "name": "python3"
  },
  "language_info": {
   "codemirror_mode": {
    "name": "ipython",
    "version": 3
   },
   "file_extension": ".py",
   "mimetype": "text/x-python",
   "name": "python",
   "nbconvert_exporter": "python",
   "pygments_lexer": "ipython3",
   "version": "3.7.3"
  }
 },
 "nbformat": 4,
 "nbformat_minor": 2
}
